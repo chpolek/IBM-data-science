{
 "cells": [
  {
   "cell_type": "markdown",
   "id": "f5010f37-e3a7-496d-942c-143ac8194f84",
   "metadata": {},
   "source": [
    "# Data Science Tools and Ecosystem"
   ]
  },
  {
   "cell_type": "markdown",
   "id": "673b71c2-ea33-444f-8c98-ea0bee2e0a01",
   "metadata": {},
   "source": [
    "In this notebook, Data Science Tools and Ecosystem are summarized."
   ]
  },
  {
   "cell_type": "markdown",
   "id": "345f6913-848c-4b41-83f8-b41936e0642c",
   "metadata": {},
   "source": [
    "Some of the popular languages that Data Scientists use are:\n",
    "1. Python\n",
    "2. R\n",
    "3. SQL\n",
    "4. Java\n",
    "5. C++\n",
    "6. Ruby"
   ]
  },
  {
   "cell_type": "markdown",
   "id": "24f29b4e-7163-4a5a-8bdb-6e2a8653aa4c",
   "metadata": {},
   "source": [
    "Some of the commonly used python libraries used by Data Scientists include:\n",
    "1. numpy\n",
    "2. pandas\n",
    "3. matplotlib\n",
    "4. seaborn\n",
    "5. scikit-learn"
   ]
  },
  {
   "cell_type": "markdown",
   "id": "0288fac2-d3c0-4d61-9c44-22a055aff284",
   "metadata": {},
   "source": [
    "| Data Science Tools |\n",
    "| --- |\n",
    "| Jupyter |\n",
    "| PyCharm |\n",
    "| Microsoft Visual Studio |\n",
    "| Spyder |"
   ]
  },
  {
   "cell_type": "markdown",
   "id": "5f37f9bc-14a8-4cb9-956f-76ca85e1dc39",
   "metadata": {},
   "source": [
    "### Below are a few examples of evaluating arithmetic expressions in Python."
   ]
  },
  {
   "cell_type": "code",
   "execution_count": 5,
   "id": "3c5ea9a5-4296-4499-9b09-a250600497f5",
   "metadata": {},
   "outputs": [
    {
     "data": {
      "text/plain": [
       "17"
      ]
     },
     "execution_count": 5,
     "metadata": {},
     "output_type": "execute_result"
    }
   ],
   "source": [
    "# This is a simple arithmetic expression to multiply then add integers\n",
    "(3*4) + 5"
   ]
  },
  {
   "cell_type": "code",
   "execution_count": 6,
   "id": "34b5cd23-dd1c-43f7-8634-038ff97c63d8",
   "metadata": {},
   "outputs": [
    {
     "data": {
      "text/plain": [
       "3.3333333333333335"
      ]
     },
     "execution_count": 6,
     "metadata": {},
     "output_type": "execute_result"
    }
   ],
   "source": [
    "def minutes_to_hours(minutes: int) -> float:\n",
    "    # This will convert minutes to hours\n",
    "    return minutes/60.0\n",
    "\n",
    "# run the function for the proposed 200 minutes\n",
    "minutes_to_hours(200)"
   ]
  },
  {
   "cell_type": "markdown",
   "id": "416aa892-ce16-44ee-81b0-b1cbae13b8ca",
   "metadata": {},
   "source": [
    "**Objectives:**\n",
    " - list popular languages for data science\n",
    " - list commonly used libraries used by data scientists\n",
    " - create markdown cell with title of the notebook using H1 style\n",
    " - add table with data science tools"
   ]
  },
  {
   "cell_type": "markdown",
   "id": "1d39d14d-eb95-4ec0-b2d9-3df873175e8a",
   "metadata": {},
   "source": [
    "## Author\n",
    "Christoph Polek"
   ]
  },
  {
   "cell_type": "code",
   "execution_count": null,
   "id": "419934f6-5f09-4089-986f-b06f1e61accb",
   "metadata": {},
   "outputs": [],
   "source": []
  }
 ],
 "metadata": {
  "kernelspec": {
   "display_name": "Python 3 (ipykernel)",
   "language": "python",
   "name": "python3"
  },
  "language_info": {
   "codemirror_mode": {
    "name": "ipython",
    "version": 3
   },
   "file_extension": ".py",
   "mimetype": "text/x-python",
   "name": "python",
   "nbconvert_exporter": "python",
   "pygments_lexer": "ipython3",
   "version": "3.12.8"
  }
 },
 "nbformat": 4,
 "nbformat_minor": 5
}
